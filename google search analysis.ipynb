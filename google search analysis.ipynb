{
 "cells": [
  {
   "cell_type": "markdown",
   "id": "4bf67153",
   "metadata": {},
   "source": [
    "## GOOGLE SEARCH ANALYSIS WITH PYTHON"
   ]
  },
  {
   "cell_type": "markdown",
   "id": "0cf11f53",
   "metadata": {},
   "source": [
    "#### PYTRENDS"
   ]
  },
  {
   "cell_type": "code",
   "execution_count": 2,
   "id": "f3713083",
   "metadata": {},
   "outputs": [
    {
     "name": "stdout",
     "output_type": "stream",
     "text": [
      "Requirement already satisfied: pytrends in c:\\users\\palak\\anaconda3\\lib\\site-packages (4.9.2)\n",
      "Requirement already satisfied: requests>=2.0 in c:\\users\\palak\\anaconda3\\lib\\site-packages (from pytrends) (2.31.0)\n",
      "Requirement already satisfied: pandas>=0.25 in c:\\users\\palak\\anaconda3\\lib\\site-packages (from pytrends) (2.0.3)\n",
      "Requirement already satisfied: lxml in c:\\users\\palak\\anaconda3\\lib\\site-packages (from pytrends) (4.9.3)\n",
      "Requirement already satisfied: python-dateutil>=2.8.2 in c:\\users\\palak\\anaconda3\\lib\\site-packages (from pandas>=0.25->pytrends) (2.8.2)\n",
      "Requirement already satisfied: pytz>=2020.1 in c:\\users\\palak\\anaconda3\\lib\\site-packages (from pandas>=0.25->pytrends) (2023.3.post1)\n",
      "Requirement already satisfied: tzdata>=2022.1 in c:\\users\\palak\\anaconda3\\lib\\site-packages (from pandas>=0.25->pytrends) (2023.3)\n",
      "Requirement already satisfied: numpy>=1.21.0 in c:\\users\\palak\\anaconda3\\lib\\site-packages (from pandas>=0.25->pytrends) (1.24.3)\n",
      "Requirement already satisfied: charset-normalizer<4,>=2 in c:\\users\\palak\\anaconda3\\lib\\site-packages (from requests>=2.0->pytrends) (2.0.4)\n",
      "Requirement already satisfied: idna<4,>=2.5 in c:\\users\\palak\\anaconda3\\lib\\site-packages (from requests>=2.0->pytrends) (3.4)\n",
      "Requirement already satisfied: urllib3<3,>=1.21.1 in c:\\users\\palak\\anaconda3\\lib\\site-packages (from requests>=2.0->pytrends) (1.26.16)\n",
      "Requirement already satisfied: certifi>=2017.4.17 in c:\\users\\palak\\anaconda3\\lib\\site-packages (from requests>=2.0->pytrends) (2023.7.22)\n",
      "Requirement already satisfied: six>=1.5 in c:\\users\\palak\\anaconda3\\lib\\site-packages (from python-dateutil>=2.8.2->pandas>=0.25->pytrends) (1.16.0)\n"
     ]
    }
   ],
   "source": [
    "#Pytrends is an unofficial Google trends API used in python. \n",
    "#It helps to analyze and list out the most popular Google search results on a specific topic or a subjects.\n",
    "!pip install pytrends "
   ]
  },
  {
   "cell_type": "code",
   "execution_count": 3,
   "id": "a44d65af",
   "metadata": {},
   "outputs": [
    {
     "data": {
      "text/plain": [
       "'we need to connect to Google as we are requesting the Google trending topics, so for this, we need to import the method TrendReq from pytrends.request library.'"
      ]
     },
     "execution_count": 3,
     "metadata": {},
     "output_type": "execute_result"
    }
   ],
   "source": [
    "\"\"\"\"\"\"\"\"\"we need to connect to Google as we are requesting the Google trending topics, so for this, we need to import the method TrendReq from pytrends.request library.\"\"\""
   ]
  },
  {
   "cell_type": "code",
   "execution_count": 4,
   "id": "7bbb5003",
   "metadata": {},
   "outputs": [],
   "source": [
    "import pandas as pd\n",
    "from pytrends.request import TrendReq\n",
    "import matplotlib.pyplot as plt\n",
    "import time\n",
    "\n",
    "Trending_topics = TrendReq(hl='en-US', tz=360)"
   ]
  },
  {
   "cell_type": "code",
   "execution_count": 6,
   "id": "9936ac85",
   "metadata": {},
   "outputs": [
    {
     "data": {
      "text/plain": [
       "' creating a dataframe of the top 10 countries that search for the term “CLOUD COMPUTING'"
      ]
     },
     "execution_count": 6,
     "metadata": {},
     "output_type": "execute_result"
    }
   ],
   "source": [
    "#build payload\n",
    "\"\"\" creating a dataframe of the top 10 countries that search for the term “CLOUD COMPUTING\"\"\""
   ]
  },
  {
   "cell_type": "code",
   "execution_count": 7,
   "id": "20725ea5",
   "metadata": {},
   "outputs": [],
   "source": [
    "kw_list=[\"Cloud Computing\"]\n",
    "Trending_topics.build_payload(kw_list,cat=0, timeframe='today 12-m')\n",
    "time.sleep(5) # Wait for 5 seconds\n"
   ]
  },
  {
   "cell_type": "code",
   "execution_count": 10,
   "id": "306ebea4",
   "metadata": {},
   "outputs": [
    {
     "data": {
      "text/plain": [
       "'- The interest_over_time() method, returns the historical, indexed data for when the specified keyword was most searched according to the timeframe mentioned in payload method\\n'"
      ]
     },
     "execution_count": 10,
     "metadata": {},
     "output_type": "execute_result"
    }
   ],
   "source": [
    "#interest over time \n",
    "\"\"\"- The interest_over_time() method, returns the historical, indexed data for when the specified keyword was most searched according to the timeframe mentioned in payload method\n",
    "\"\"\""
   ]
  },
  {
   "cell_type": "code",
   "execution_count": 13,
   "id": "8e6a3624",
   "metadata": {},
   "outputs": [
    {
     "name": "stdout",
     "output_type": "stream",
     "text": [
      "            Cloud Computing  isPartial\n",
      "date                                  \n",
      "2024-11-17              100      False\n",
      "2024-02-18               93      False\n",
      "2024-12-01               91      False\n",
      "2024-02-25               91      False\n",
      "2024-03-17               91      False\n",
      "2024-02-11               91      False\n",
      "2024-02-04               90      False\n",
      "2024-05-05               90      False\n",
      "2024-05-19               89      False\n",
      "2024-09-22               89      False\n"
     ]
    }
   ],
   "source": [
    "data = Trending_topics.interest_over_time()\n",
    "data = data.sort_values(by=\"Cloud Computing\", ascending = False)\n",
    "data = data.head(10)\n",
    "print(data)"
   ]
  },
  {
   "cell_type": "code",
   "execution_count": 15,
   "id": "69ac36e9",
   "metadata": {},
   "outputs": [
    {
     "data": {
      "text/plain": [
       "' The get_historical_interest() method returns the historical, indexed, hourly data for when the specified keyword was most searched.'"
      ]
     },
     "execution_count": 15,
     "metadata": {},
     "output_type": "execute_result"
    }
   ],
   "source": [
    "#historical hour interest\n",
    "\"\"\" The get_historical_interest() method returns the historical, indexed, hourly data for when the specified keyword was most searched.\"\"\""
   ]
  },
  {
   "cell_type": "code",
   "execution_count": 18,
   "id": "6e1ec7e0",
   "metadata": {},
   "outputs": [
    {
     "name": "stdout",
     "output_type": "stream",
     "text": [
      "            Cloud Computing  isPartial\n",
      "date                                  \n",
      "2018-01-30              100      False\n",
      "2018-01-18               97      False\n",
      "2018-02-01               96      False\n",
      "2018-01-08               93      False\n",
      "2018-01-10               91      False\n",
      "2018-01-11               91      False\n",
      "2018-01-24               91      False\n",
      "2018-01-04               90      False\n",
      "2018-01-22               90      False\n",
      "2018-01-09               89      False\n"
     ]
    }
   ],
   "source": [
    "kw_list = [\"Cloud Computing\"]\n",
    "Trending_topics.build_payload(kw_list, cat=0, timeframe='2018-01-01 2018-02-01', geo='', gprop='')\n",
    "data = Trending_topics.interest_over_time()\n",
    "data = data.sort_values(by=\"Cloud Computing\", ascending = False)\n",
    "data = data.head(10)\n",
    "print(data)"
   ]
  },
  {
   "cell_type": "code",
   "execution_count": 19,
   "id": "89babe4c",
   "metadata": {},
   "outputs": [
    {
     "data": {
      "text/plain": [
       "'to know the know the performance of the keyword per region.'"
      ]
     },
     "execution_count": 19,
     "metadata": {},
     "output_type": "execute_result"
    }
   ],
   "source": [
    "#interest by region\n",
    "\"\"\"to know the know the performance of the keyword per region.\"\"\""
   ]
  },
  {
   "cell_type": "code",
   "execution_count": 20,
   "id": "a5a17bae",
   "metadata": {},
   "outputs": [
    {
     "name": "stdout",
     "output_type": "stream",
     "text": [
      "            Cloud Computing\n",
      "geoName                    \n",
      "Ethiopia                100\n",
      "Nepal                    36\n",
      "Cameroon                 34\n",
      "St. Helena               32\n",
      "India                    29\n",
      "China                    22\n",
      "Sri Lanka                18\n",
      "Kenya                    17\n",
      "Singapore                17\n",
      "Pakistan                 16\n"
     ]
    }
   ],
   "source": [
    "data = Trending_topics.interest_by_region()\n",
    "data = data.sort_values(by=\"Cloud Computing\", \n",
    "                        ascending = False)\n",
    "data = data.head(10)\n",
    "print(data)"
   ]
  },
  {
   "cell_type": "code",
   "execution_count": 21,
   "id": "11482929",
   "metadata": {},
   "outputs": [
    {
     "data": {
      "image/png": "[encoded data removed]",
      "text/plain": [
       "<Figure size 1000x500 with 1 Axes>"
      ]
     },
     "metadata": {},
     "output_type": "display_data"
    }
   ],
   "source": [
    "data.reset_index().plot(x='geoName', y='Cloud Computing',\n",
    "                        figsize=(10,5), kind=\"bar\")\n",
    "plt.style.use('fivethirtyeight')\n",
    "plt.show()"
   ]
  },
  {
   "cell_type": "code",
   "execution_count": 26,
   "id": "8a9d3163",
   "metadata": {},
   "outputs": [
    {
     "data": {
      "text/plain": [
       "'The suggestions() method, will help you to explore what the world is searching for.'"
      ]
     },
     "execution_count": 26,
     "metadata": {},
     "output_type": "execute_result"
    }
   ],
   "source": [
    "#keyword suggestion\n",
    "\"\"\"The suggestions() method, will help you to explore what the world is searching for.\"\"\""
   ]
  },
  {
   "cell_type": "code",
   "execution_count": 27,
   "id": "07f5b8f1",
   "metadata": {},
   "outputs": [
    {
     "data": {
      "text/html": [
       "<div>\n",
       "<style scoped>\n",
       "    .dataframe tbody tr th:only-of-type {\n",
       "        vertical-align: middle;\n",
       "    }\n",
       "\n",
       "    .dataframe tbody tr th {\n",
       "        vertical-align: top;\n",
       "    }\n",
       "\n",
       "    .dataframe thead th {\n",
       "        text-align: right;\n",
       "    }\n",
       "</style>\n",
       "<table border=\"1\" class=\"dataframe\">\n",
       "  <thead>\n",
       "    <tr style=\"text-align: right;\">\n",
       "      <th></th>\n",
       "      <th>title</th>\n",
       "      <th>type</th>\n",
       "    </tr>\n",
       "  </thead>\n",
       "  <tbody>\n",
       "    <tr>\n",
       "      <th>0</th>\n",
       "      <td>Cloud computing</td>\n",
       "      <td>Topic</td>\n",
       "    </tr>\n",
       "    <tr>\n",
       "      <th>1</th>\n",
       "      <td>Cloud computing</td>\n",
       "      <td>Topic</td>\n",
       "    </tr>\n",
       "    <tr>\n",
       "      <th>2</th>\n",
       "      <td>Cloud computing security</td>\n",
       "      <td>Topic</td>\n",
       "    </tr>\n",
       "    <tr>\n",
       "      <th>3</th>\n",
       "      <td>Alibaba Cloud</td>\n",
       "      <td>Computer application company</td>\n",
       "    </tr>\n",
       "    <tr>\n",
       "      <th>4</th>\n",
       "      <td>Private cloud computing infrastructure</td>\n",
       "      <td>Topic</td>\n",
       "    </tr>\n",
       "  </tbody>\n",
       "</table>\n",
       "</div>"
      ],
      "text/plain": [
       "                                    title                          type\n",
       "0                         Cloud computing                         Topic\n",
       "1                         Cloud computing                         Topic\n",
       "2                Cloud computing security                         Topic\n",
       "3                           Alibaba Cloud  Computer application company\n",
       "4  Private cloud computing infrastructure                         Topic"
      ]
     },
     "execution_count": 27,
     "metadata": {},
     "output_type": "execute_result"
    }
   ],
   "source": [
    "keywords = Trending_topics.suggestions(\n",
    "  keyword='Cloud Computing')\n",
    "df = pd.DataFrame(keywords)\n",
    "df.drop(columns= 'mid') "
   ]
  },
  {
   "cell_type": "code",
   "execution_count": null,
   "id": "6da7bdf8",
   "metadata": {},
   "outputs": [],
   "source": []
  }
 ],
 "metadata": {
  "kernelspec": {
   "display_name": "Python 3 (ipykernel)",
   "language": "python",
   "name": "python3"
  },
  "language_info": {
   "codemirror_mode": {
    "name": "ipython",
    "version": 3
   },
   "file_extension": ".py",
   "mimetype": "text/x-python",
   "name": "python",
   "nbconvert_exporter": "python",
   "pygments_lexer": "ipython3",
   "version": "3.11.5"
  }
 },
 "nbformat": 4,
 "nbformat_minor": 5
}
